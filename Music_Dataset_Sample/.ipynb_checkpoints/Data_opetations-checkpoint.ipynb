{
 "cells": [
  {
   "cell_type": "code",
   "execution_count": 60,
   "id": "f8d605d4-9f9e-4c3d-ab2d-66579d6a8ea3",
   "metadata": {},
   "outputs": [
    {
     "data": {
      "text/plain": [
       "59"
      ]
     },
     "execution_count": 60,
     "metadata": {},
     "output_type": "execute_result"
    }
   ],
   "source": [
    "# Step 1: Import libraries\n",
    "import pandas as pd\n",
    "import sqlite3\n",
    "\n",
    "# Step 2: Create in-memory SQLite database once\n",
    "conn = sqlite3.connect(\":memory:\")\n",
    "\n",
    "# Step 3: Read and load employee.csv\n",
    "df_employee = pd.read_csv(\"./Store_Data/employee.csv\")\n",
    "df_employee.to_sql(\"employee\", conn, index=False, if_exists=\"replace\")\n",
    "\n",
    "# Step 4: Read and load invoice.csv\n",
    "df_invoice = pd.read_csv(\"./Store_Data/invoice.csv\")\n",
    "df_invoice.to_sql(\"invoice\", conn, index=False, if_exists=\"replace\")\n",
    "\n",
    "# Step 3: Read and load employee.csv\n",
    "df_employee = pd.read_csv(\"./Store_Data/customer.csv\")\n",
    "df_employee.to_sql(\"customer\", conn, index=False, if_exists=\"replace\")\n"
   ]
  },
  {
   "cell_type": "code",
   "execution_count": 56,
   "id": "ca0f2c26-e8d8-4b77-980e-59b1b6a052df",
   "metadata": {},
   "outputs": [
    {
     "name": "stdout",
     "output_type": "stream",
     "text": [
      "  first_name last_name levels\n",
      "0      Mohan     Madan     L7\n",
      "1     Andrew     Adams     L6\n",
      "2      Nancy   Edwards     L4\n",
      "3    Michael  Mitchell     L3\n",
      "4     Robert      King     L2\n",
      "5      Laura  Callahan     L2\n",
      "6       Jane   Peacock     L1\n",
      "7   Margaret      Park     L1\n",
      "8      Steve   Johnson     L1\n"
     ]
    }
   ],
   "source": [
    "# Q1: Find the most senior employee based on job title.\n",
    "# Hint: Use the employee table and sort by the levels column in descending order.\n",
    "\n",
    "\n",
    "# Run SQL query\n",
    "result = pd.read_sql(\"SELECT first_name, last_name, levels FROM employee ORDER BY levels DESC\", conn)\n",
    "print(result)"
   ]
  },
  {
   "cell_type": "code",
   "execution_count": 45,
   "id": "cf0195d9-72a3-4ad0-bc00-019b5844a410",
   "metadata": {},
   "outputs": [
    {
     "name": "stdout",
     "output_type": "stream",
     "text": [
      "   billing_country  invoice_count\n",
      "0              USA            131\n",
      "1           Canada             76\n",
      "2           Brazil             61\n",
      "3           France             50\n",
      "4          Germany             41\n",
      "5   Czech Republic             30\n",
      "6         Portugal             29\n",
      "7   United Kingdom             28\n",
      "8            India             21\n",
      "9          Ireland             13\n",
      "10           Chile             13\n",
      "11           Spain             11\n",
      "12         Finland             11\n",
      "13          Sweden             10\n",
      "14          Poland             10\n",
      "15     Netherlands             10\n",
      "16         Hungary             10\n",
      "17         Denmark             10\n",
      "18       Australia             10\n",
      "19          Norway              9\n",
      "20           Italy              9\n",
      "21         Austria              9\n",
      "22         Belgium              7\n",
      "23       Argentina              5\n"
     ]
    }
   ],
   "source": [
    "# Q2: Determine which countries have the most invoices.\n",
    "# Hint: Group the invoice data by billing_country, then count and sort the results.\n",
    "\n",
    "# Run SQL query\n",
    "result = pd.read_sql(\"SELECT billing_country, COUNT(*) AS invoice_count FROM invoice GROUP BY billing_country ORDER BY invoice_count DESC\", conn)\n",
    "print(result)"
   ]
  },
  {
   "cell_type": "code",
   "execution_count": 57,
   "id": "3a7dff56-7cb2-4b6d-8a1a-a7920b18a83a",
   "metadata": {},
   "outputs": [
    {
     "name": "stdout",
     "output_type": "stream",
     "text": [
      "     Total\n",
      "0  4709.43\n"
     ]
    }
   ],
   "source": [
    "# Q3: Identify the top 3 invoice totals.\n",
    "# Hint: Sort the invoice table by the total column.\n",
    "\n",
    "total = pd.read_sql(\"SELECT sum(total) AS Total FROM invoice ORDER BY total DESC LIMIT 3\", conn)\n",
    "print(total)"
   ]
  },
  {
   "cell_type": "code",
   "execution_count": 58,
   "id": "7c8b73c7-568f-45a8-9f95-acf599865100",
   "metadata": {},
   "outputs": [
    {
     "name": "stdout",
     "output_type": "stream",
     "text": [
      "       city    Total\n",
      "0  New York  4709.43\n"
     ]
    }
   ],
   "source": [
    "# Q4: Find the city with the highest total invoice amount to determine the best location for\n",
    "# a promotional event.\n",
    "\n",
    "total = pd.read_sql(\"SELECT billing_city AS city, sum(total) AS Total FROM invoice ORDER BY total DESC LIMIT 3\", conn)\n",
    "print(total)\n"
   ]
  },
  {
   "cell_type": "code",
   "execution_count": 62,
   "id": "53847560-b29a-464d-9c78-09d7361bddb7",
   "metadata": {},
   "outputs": [
    {
     "name": "stdout",
     "output_type": "stream",
     "text": [
      "  first_name    last_name  FinalTotal\n",
      "0  František  Wichterlová      144.54\n"
     ]
    }
   ],
   "source": [
    "# Q5: Identify the customer who has spent the most money.\n",
    "# Hint: Use a join between customer and invoice, group by customer_id, and sum\n",
    "# the totals.\n",
    "\n",
    "customer = pd.read_sql(\"\"\"\n",
    "SELECT \n",
    "    c.first_name, \n",
    "    c.last_name, \n",
    "    SUM(i.total) AS FinalTotal\n",
    "FROM customer AS c\n",
    "INNER JOIN invoice AS i ON c.customer_id = i.customer_id\n",
    "GROUP BY c.customer_id\n",
    "ORDER BY FinalTotal DESC\n",
    "LIMIT 1\n",
    "\"\"\", conn)\n",
    "\n",
    "print(customer)\n"
   ]
  },
  {
   "cell_type": "code",
   "execution_count": null,
   "id": "43f56b5c-bddf-49a4-8b65-69954f87c28b",
   "metadata": {},
   "outputs": [],
   "source": []
  }
 ],
 "metadata": {
  "kernelspec": {
   "display_name": "Python [conda env:base] *",
   "language": "python",
   "name": "conda-base-py"
  },
  "language_info": {
   "codemirror_mode": {
    "name": "ipython",
    "version": 3
   },
   "file_extension": ".py",
   "mimetype": "text/x-python",
   "name": "python",
   "nbconvert_exporter": "python",
   "pygments_lexer": "ipython3",
   "version": "3.12.7"
  }
 },
 "nbformat": 4,
 "nbformat_minor": 5
}
