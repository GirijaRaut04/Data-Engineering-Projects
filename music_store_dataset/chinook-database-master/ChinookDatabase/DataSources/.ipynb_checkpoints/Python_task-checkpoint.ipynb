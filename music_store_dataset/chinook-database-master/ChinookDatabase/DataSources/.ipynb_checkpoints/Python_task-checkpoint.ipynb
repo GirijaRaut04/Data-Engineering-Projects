{
 "cells": [
  {
   "cell_type": "code",
   "execution_count": 3,
   "id": "1e185b9c-01db-43a8-b209-2dd62cea962d",
   "metadata": {},
   "outputs": [
    {
     "name": "stdout",
     "output_type": "stream",
     "text": [
      "Requirement already satisfied: pandas in c:\\users\\addi\\anaconda3\\lib\\site-packages (2.2.2)\n",
      "Requirement already satisfied: numpy>=1.26.0 in c:\\users\\addi\\anaconda3\\lib\\site-packages (from pandas) (1.26.4)\n",
      "Requirement already satisfied: python-dateutil>=2.8.2 in c:\\users\\addi\\anaconda3\\lib\\site-packages (from pandas) (2.9.0.post0)\n",
      "Requirement already satisfied: pytz>=2020.1 in c:\\users\\addi\\anaconda3\\lib\\site-packages (from pandas) (2024.1)\n",
      "Requirement already satisfied: tzdata>=2022.7 in c:\\users\\addi\\anaconda3\\lib\\site-packages (from pandas) (2023.3)\n",
      "Requirement already satisfied: six>=1.5 in c:\\users\\addi\\anaconda3\\lib\\site-packages (from python-dateutil>=2.8.2->pandas) (1.16.0)\n"
     ]
    }
   ],
   "source": [
    "!pip install pandas\n"
   ]
  },
  {
   "cell_type": "code",
   "execution_count": 27,
   "id": "a41d8703-20da-4c19-a1cf-2894e110d635",
   "metadata": {},
   "outputs": [],
   "source": [
    "import sqlite3\n",
    "\n",
    "# Connect to the Chinook database\n",
    "conn = sqlite3.connect('Chinook_Sqlite.sqlite')\n",
    "\n",
    "# Create a cursor object\n",
    "cursor = conn.cursor()\n"
   ]
  },
  {
   "cell_type": "code",
   "execution_count": 17,
   "id": "9d548524-c181-4013-ac83-7bc6f4d0eeae",
   "metadata": {},
   "outputs": [
    {
     "name": "stdout",
     "output_type": "stream",
     "text": [
      "   InvoiceId  CustomerId          InvoiceDate           BillingAddress  \\\n",
      "0          1           2  2009-01-01 00:00:00  Theodor-Heuss-Straße 34   \n",
      "1          2           4  2009-01-02 00:00:00         Ullevålsveien 14   \n",
      "2          3           8  2009-01-03 00:00:00          Grétrystraat 63   \n",
      "3          4          14  2009-01-06 00:00:00           8210 111 ST NW   \n",
      "4          5          23  2009-01-11 00:00:00          69 Salem Street   \n",
      "\n",
      "  BillingCity BillingState BillingCountry BillingPostalCode  Total  \n",
      "0   Stuttgart         None        Germany             70174   1.98  \n",
      "1        Oslo         None         Norway              0171   3.96  \n",
      "2    Brussels         None        Belgium              1000   5.94  \n",
      "3    Edmonton           AB         Canada           T6G 2C7   8.91  \n",
      "4      Boston           MA            USA              2113  13.86  \n"
     ]
    }
   ],
   "source": [
    "import pandas as pd\n",
    "\n",
    "# Load Invoice table into pandas DataFrame\n",
    "invoice_df = pd.read_sql_query(\"SELECT * FROM Invoice\", conn)\n",
    "print(invoice_df.head())\n"
   ]
  },
  {
   "cell_type": "code",
   "execution_count": 19,
   "id": "f64b0568-a6e3-41a7-933b-16067ad5a1b9",
   "metadata": {},
   "outputs": [],
   "source": [
    "invoice_df.to_csv('Invoice.csv', index=False)\n"
   ]
  },
  {
   "cell_type": "code",
   "execution_count": 21,
   "id": "b028eed3-8f4b-4cbc-8e20-f45627dd0789",
   "metadata": {},
   "outputs": [
    {
     "name": "stdout",
     "output_type": "stream",
     "text": [
      "    CustomerId  TotalSpent\n",
      "0            1       39.62\n",
      "1            2       37.62\n",
      "2            3       39.62\n",
      "3            4       39.62\n",
      "4            5       40.62\n",
      "5            6       49.62\n",
      "6            7       42.62\n",
      "7            8       37.62\n",
      "8            9       37.62\n",
      "9           10       37.62\n",
      "10          11       37.62\n",
      "11          12       37.62\n",
      "12          13       37.62\n",
      "13          14       37.62\n",
      "14          15       38.62\n",
      "15          16       37.62\n",
      "16          17       39.62\n",
      "17          18       37.62\n",
      "18          19       38.62\n",
      "19          20       39.62\n",
      "20          21       37.62\n",
      "21          22       39.62\n",
      "22          23       37.62\n",
      "23          24       43.62\n",
      "24          25       42.62\n",
      "25          26       47.62\n",
      "26          27       37.62\n",
      "27          28       43.62\n",
      "28          29       37.62\n",
      "29          30       37.62\n",
      "30          31       37.62\n",
      "31          32       37.62\n",
      "32          33       37.62\n",
      "33          34       39.62\n",
      "34          35       37.62\n",
      "35          36       37.62\n",
      "36          37       43.62\n",
      "37          38       37.62\n",
      "38          39       38.62\n",
      "39          40       38.62\n",
      "40          41       37.62\n",
      "41          42       39.62\n",
      "42          43       40.62\n",
      "43          44       41.62\n",
      "44          45       45.62\n",
      "45          46       45.62\n",
      "46          47       37.62\n",
      "47          48       40.62\n",
      "48          49       37.62\n",
      "49          50       37.62\n",
      "50          51       38.62\n",
      "51          52       37.62\n",
      "52          53       37.62\n",
      "53          54       37.62\n",
      "54          55       37.62\n",
      "55          56       37.62\n",
      "56          57       46.62\n",
      "57          58       38.62\n",
      "58          59       36.64\n"
     ]
    }
   ],
   "source": [
    "# Write a function to calculate total spent per customer.\n",
    "def total_spent_per_customer(df):\n",
    "    \"\"\"\n",
    "    Calculate total spent per customer.\n",
    "    \"\"\"\n",
    "    result = df.groupby('CustomerId')['Total'].sum().reset_index()\n",
    "    result.rename(columns={'Total': 'TotalSpent'}, inplace=True)\n",
    "    return result\n",
    "\n",
    "# Use the function\n",
    "customer_spent_df = total_spent_per_customer(invoice_df)\n",
    "print(customer_spent_df)\n"
   ]
  },
  {
   "cell_type": "code",
   "execution_count": 25,
   "id": "01b37756-a226-4b8e-ba7d-1296b404f827",
   "metadata": {},
   "outputs": [
    {
     "name": "stdout",
     "output_type": "stream",
     "text": [
      "CustomerId: 10 - Review: Great service!\n",
      "CustomerId: 20 - Review: Good selection of tracks.\n",
      "CustomerId: 30 - Review: Satisfied with purchase.\n"
     ]
    }
   ],
   "source": [
    "import json\n",
    "\n",
    "# Parse a JSON file of user reviews.\n",
    "with open('UserReviews.json', 'r') as file:\n",
    "    user_reviews = json.load(file)\n",
    "\n",
    "# Display each user review\n",
    "for review in user_reviews:\n",
    "    print(f\"CustomerId: {review['CustomerId']} - Review: {review['Review']}\")\n"
   ]
  },
  {
   "cell_type": "code",
   "execution_count": null,
   "id": "34b4c6ee-fda5-4cc4-a62a-25f4c0fe6e16",
   "metadata": {},
   "outputs": [],
   "source": []
  }
 ],
 "metadata": {
  "kernelspec": {
   "display_name": "Python [conda env:base] *",
   "language": "python",
   "name": "conda-base-py"
  },
  "language_info": {
   "codemirror_mode": {
    "name": "ipython",
    "version": 3
   },
   "file_extension": ".py",
   "mimetype": "text/x-python",
   "name": "python",
   "nbconvert_exporter": "python",
   "pygments_lexer": "ipython3",
   "version": "3.12.7"
  }
 },
 "nbformat": 4,
 "nbformat_minor": 5
}
