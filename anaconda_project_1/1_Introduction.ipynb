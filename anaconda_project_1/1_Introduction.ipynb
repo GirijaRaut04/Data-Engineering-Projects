{
 "cells": [
  {
   "cell_type": "code",
   "execution_count": 19,
   "id": "2417d575-117c-4ce2-864b-9fdceee64469",
   "metadata": {},
   "outputs": [],
   "source": [
    "import json\n"
   ]
  },
  {
   "cell_type": "code",
   "execution_count": 21,
   "id": "d30d56a9-a194-4b4c-9a8e-50e8a4623eca",
   "metadata": {},
   "outputs": [],
   "source": [
    "def load_data(filename):\n",
    "    with open(filename, \"r\") as f:\n",
    "        data = json.load(f)\n",
    "    return data"
   ]
  },
  {
   "cell_type": "code",
   "execution_count": 25,
   "id": "24867314-0b65-4c70-bb12-7f1bdb7e7fed",
   "metadata": {},
   "outputs": [],
   "source": [
    "data = load_data(\"data.json\")"
   ]
  },
  {
   "cell_type": "code",
   "execution_count": 28,
   "id": "74961df7-74ec-45c4-8e76-8a8a7e8df995",
   "metadata": {},
   "outputs": [
    {
     "data": {
      "text/plain": [
       "{'users': [{'id': 1, 'name': 'Amit', 'friends': [2, 3], 'liked_pages': [101]},\n",
       "  {'id': 2, 'name': 'Priya', 'friends': [1, 4], 'liked_pages': [102]},\n",
       "  {'id': 3, 'name': 'Rahul', 'friends': [1], 'liked_pages': [101, 103]},\n",
       "  {'id': 4, 'name': 'Sara', 'friends': [2], 'liked_pages': [104]}],\n",
       " 'pages': [{'id': 101, 'name': 'Python Developers'},\n",
       "  {'id': 102, 'name': 'Data Science Enthusiasts'},\n",
       "  {'id': 103, 'name': 'AI & ML Community'},\n",
       "  {'id': 104, 'name': 'Web Dev Hub'}]}"
      ]
     },
     "execution_count": 28,
     "metadata": {},
     "output_type": "execute_result"
    }
   ],
   "source": [
    "data"
   ]
  },
  {
   "cell_type": "code",
   "execution_count": 30,
   "id": "ae49cbb9-2dc6-4455-b62d-19db10671adb",
   "metadata": {},
   "outputs": [
    {
     "data": {
      "text/plain": [
       "dict"
      ]
     },
     "execution_count": 30,
     "metadata": {},
     "output_type": "execute_result"
    }
   ],
   "source": [
    "type(data)"
   ]
  },
  {
   "cell_type": "code",
   "execution_count": 46,
   "id": "f335e766-0bb7-4a71-a055-a2dfbdba0c7e",
   "metadata": {},
   "outputs": [
    {
     "name": "stdout",
     "output_type": "stream",
     "text": [
      "Users and their connections\n",
      "\n",
      "\n",
      "ID: 1. Amit is friends with:[2, 3] and liked pages are [101]\n",
      "\n",
      "Pages Information\n",
      "101 : Python Developers\n",
      "102 : Data Science Enthusiasts\n",
      "103 : AI & ML Community\n",
      "104 : Web Dev Hub\n",
      "\n",
      "ID: 2. Priya is friends with:[1, 4] and liked pages are [102]\n",
      "\n",
      "Pages Information\n",
      "101 : Python Developers\n",
      "102 : Data Science Enthusiasts\n",
      "103 : AI & ML Community\n",
      "104 : Web Dev Hub\n",
      "\n",
      "ID: 3. Rahul is friends with:[1] and liked pages are [101, 103]\n",
      "\n",
      "Pages Information\n",
      "101 : Python Developers\n",
      "102 : Data Science Enthusiasts\n",
      "103 : AI & ML Community\n",
      "104 : Web Dev Hub\n",
      "\n",
      "ID: 4. Sara is friends with:[2] and liked pages are [104]\n",
      "\n",
      "Pages Information\n",
      "101 : Python Developers\n",
      "102 : Data Science Enthusiasts\n",
      "103 : AI & ML Community\n",
      "104 : Web Dev Hub\n"
     ]
    }
   ],
   "source": [
    "def display_users(data):\n",
    "    print(\"Users and their connections\\n\")\n",
    "    for user in data['users']:\n",
    "        print(f\"\\nID: {user['id']}. {user['name']} is friends with:{user[\"friends\"]} and liked pages are {user['liked_pages']}\\n\")\n",
    "        print(\"Pages Information\")\n",
    "        for page in data[\"pages\"]:\n",
    "            print(f\"{page[\"id\"]} : {page['name']}\")\n",
    "\n",
    "display_users(data)\n",
    "        "
   ]
  },
  {
   "cell_type": "code",
   "execution_count": null,
   "id": "5f5b6397-c6e3-48a7-9f7d-fc95f9b9938f",
   "metadata": {},
   "outputs": [],
   "source": []
  }
 ],
 "metadata": {
  "kernelspec": {
   "display_name": "Python [conda env:base] *",
   "language": "python",
   "name": "conda-base-py"
  },
  "language_info": {
   "codemirror_mode": {
    "name": "ipython",
    "version": 3
   },
   "file_extension": ".py",
   "mimetype": "text/x-python",
   "name": "python",
   "nbconvert_exporter": "python",
   "pygments_lexer": "ipython3",
   "version": "3.12.7"
  }
 },
 "nbformat": 4,
 "nbformat_minor": 5
}
