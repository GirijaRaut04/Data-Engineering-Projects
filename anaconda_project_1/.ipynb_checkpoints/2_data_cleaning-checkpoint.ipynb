{
 "cells": [
  {
   "cell_type": "code",
   "execution_count": 20,
   "id": "7e923f5e-8101-49aa-ac28-d2094a27d73b",
   "metadata": {},
   "outputs": [
    {
     "name": "stdout",
     "output_type": "stream",
     "text": [
      "Data has been cleaned successfully\n"
     ]
    }
   ],
   "source": [
    "import json \n",
    "def clean_data(data):\n",
    "    #remove users with missing names\n",
    "    data[\"users\"] = [user for user in data[\"users\"] if user[\"name\"].strip()]\n",
    "    #remove duplicate friends\n",
    "    for user in data [\"users\"]:\n",
    "        user['friends'] = list(set(user['friends']))\n",
    "    #remove inactive users\n",
    "        data[\"users\"] = [user for user in data[\"users\"] if user [\"friends\"] or user[\"liked_pages\"]]\n",
    "    #remove duplicate pages\n",
    "    unique_pages = {}\n",
    "    for page in data[\"pages\"]:\n",
    "        unique_pages[page['id']] = page\n",
    "    data['pages'] = list (unique_pages.values())\n",
    "    return data\n",
    "\n",
    "#Load the data\n",
    "data = json.load(open(\"data2.json\"))\n",
    "data= clean_data(data)\n",
    "json.dump(data,open(\"cleaned_data2.json\",\"w\"), indent=4)\n",
    "print(\"Data has been cleaned successfully\")"
   ]
  },
  {
   "cell_type": "code",
   "execution_count": null,
   "id": "1a7a6fd4-ddcf-49bb-ab7e-7370edaf0458",
   "metadata": {},
   "outputs": [],
   "source": []
  }
 ],
 "metadata": {
  "kernelspec": {
   "display_name": "Python [conda env:base] *",
   "language": "python",
   "name": "conda-base-py"
  },
  "language_info": {
   "codemirror_mode": {
    "name": "ipython",
    "version": 3
   },
   "file_extension": ".py",
   "mimetype": "text/x-python",
   "name": "python",
   "nbconvert_exporter": "python",
   "pygments_lexer": "ipython3",
   "version": "3.12.7"
  }
 },
 "nbformat": 4,
 "nbformat_minor": 5
}
