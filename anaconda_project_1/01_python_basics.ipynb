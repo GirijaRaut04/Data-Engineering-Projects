{
 "cells": [
  {
   "cell_type": "code",
   "execution_count": 6,
   "id": "625f407d-15bf-4578-b483-b34aa5492206",
   "metadata": {},
   "outputs": [],
   "source": [
    "a=5\n"
   ]
  },
  {
   "cell_type": "code",
   "execution_count": 8,
   "id": "048f592d-7179-4030-bfba-26a232fe167b",
   "metadata": {},
   "outputs": [],
   "source": [
    "b=32"
   ]
  },
  {
   "cell_type": "code",
   "execution_count": 10,
   "id": "d4c1cfc8-3008-413c-92ab-aa1f09e3cf83",
   "metadata": {},
   "outputs": [
    {
     "data": {
      "text/plain": [
       "37"
      ]
     },
     "execution_count": 10,
     "metadata": {},
     "output_type": "execute_result"
    }
   ],
   "source": [
    "a+b"
   ]
  },
  {
   "cell_type": "code",
   "execution_count": 12,
   "id": "2743efed-c4e3-4bdd-9689-42c4409c1e44",
   "metadata": {},
   "outputs": [],
   "source": [
    "name =\"Harry\""
   ]
  },
  {
   "cell_type": "code",
   "execution_count": 18,
   "id": "987fc949-22bb-4abf-933d-36a528d71885",
   "metadata": {},
   "outputs": [
    {
     "name": "stdout",
     "output_type": "stream",
     "text": [
      "Hello World\n"
     ]
    }
   ],
   "source": [
    "print(\"Hello World\") # print hello world"
   ]
  },
  {
   "cell_type": "code",
   "execution_count": 16,
   "id": "f9d32070-a90d-4157-846a-7d4bedc5443c",
   "metadata": {},
   "outputs": [],
   "source": [
    "#this is a patiyala house"
   ]
  },
  {
   "cell_type": "code",
   "execution_count": 20,
   "id": "a1fc2019-55c8-4d0c-9e78-d36bb06208aa",
   "metadata": {},
   "outputs": [
    {
     "name": "stdout",
     "output_type": "stream",
     "text": [
      "<class 'int'>\n"
     ]
    }
   ],
   "source": [
    "print(type(a))"
   ]
  },
  {
   "cell_type": "code",
   "execution_count": 22,
   "id": "72055c11-422d-49a1-be51-e77c3a7e3c8e",
   "metadata": {},
   "outputs": [
    {
     "name": "stdout",
     "output_type": "stream",
     "text": [
      "<class 'str'>\n"
     ]
    }
   ],
   "source": [
    "print(type(name))"
   ]
  },
  {
   "cell_type": "code",
   "execution_count": 24,
   "id": "311599dc-9319-4ccb-9602-4322d4db901c",
   "metadata": {},
   "outputs": [],
   "source": [
    "b = \"3978463\""
   ]
  },
  {
   "cell_type": "code",
   "execution_count": 34,
   "id": "7ac0ed37-8476-4912-a17e-d18c3a3b354f",
   "metadata": {},
   "outputs": [],
   "source": [
    "a = \"309274\""
   ]
  },
  {
   "cell_type": "code",
   "execution_count": 36,
   "id": "a353102d-91be-4cd9-ae59-5f1f3a210ead",
   "metadata": {},
   "outputs": [
    {
     "name": "stdout",
     "output_type": "stream",
     "text": [
      "3092743978463\n"
     ]
    }
   ],
   "source": [
    "print(a+b)"
   ]
  },
  {
   "cell_type": "code",
   "execution_count": 32,
   "id": "a5b00379-607a-46f7-a3a5-8c27afffbc2b",
   "metadata": {},
   "outputs": [
    {
     "data": {
      "text/plain": [
       "4287737"
      ]
     },
     "execution_count": 32,
     "metadata": {},
     "output_type": "execute_result"
    }
   ],
   "source": [
    "int(a)+int(b)"
   ]
  },
  {
   "cell_type": "code",
   "execution_count": null,
   "id": "b1e871e0-3e37-4e00-955c-bc0207bcbe34",
   "metadata": {},
   "outputs": [],
   "source": []
  }
 ],
 "metadata": {
  "kernelspec": {
   "display_name": "Python [conda env:base] *",
   "language": "python",
   "name": "conda-base-py"
  },
  "language_info": {
   "codemirror_mode": {
    "name": "ipython",
    "version": 3
   },
   "file_extension": ".py",
   "mimetype": "text/x-python",
   "name": "python",
   "nbconvert_exporter": "python",
   "pygments_lexer": "ipython3",
   "version": "3.12.7"
  }
 },
 "nbformat": 4,
 "nbformat_minor": 5
}
