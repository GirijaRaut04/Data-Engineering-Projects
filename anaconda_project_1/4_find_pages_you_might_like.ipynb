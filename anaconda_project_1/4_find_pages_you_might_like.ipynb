{
 "cells": [
  {
   "cell_type": "code",
   "execution_count": 31,
   "id": "3342216a-df6c-462d-a815-c086d461d1f2",
   "metadata": {},
   "outputs": [
    {
     "name": "stdout",
     "output_type": "stream",
     "text": [
      "[(103, 2), (105, 1), (107, 1), (104, 0), (106, 0), (108, 0), (109, 0), (110, 0), (111, 0), (112, 0), (113, 0), (114, 0), (115, 0), (116, 0), (117, 0), (118, 0), (119, 0), (120, 0), (121, 0), (122, 0), (123, 0), (124, 0), (125, 0), (126, 0), (127, 0)]\n"
     ]
    }
   ],
   "source": [
    "import json\n",
    "\n",
    "#function to load json data\n",
    "def load_data(filename):\n",
    "    with open(filename, \"r\") as f:\n",
    "        return json.load(f)\n",
    "\n",
    "#function to find pages a user might like based on common intrest\n",
    "def find_pages_you_might_like(user_id,data):\n",
    "    #Dictionary to store user interactions with pages\n",
    "    user_pages = {}\n",
    "    #populate the dictionary\n",
    "    for user in data['users']:\n",
    "        user_pages[user['id']] = set(user['liked_pages'])\n",
    "    #if the user is not found, return an empty list\n",
    "    if user_id not in user_pages:\n",
    "        return[]\n",
    "    user_liked_pages = user_pages[user_id]\n",
    "    page_suggestions = {}\n",
    "\n",
    "    for other_user, pages in user_pages.items():\n",
    "        if other_user != user_id:\n",
    "            shared_pages = user_liked_pages.intersection(pages)\n",
    "            for page in pages :\n",
    "                if page not in user_liked_pages:\n",
    "                    page_suggestions[page]= page_suggestions.get(page,0) + len(shared_pages)\n",
    "\n",
    "    sorted_pages = sorted(page_suggestions.items(), key=lambda x:x[1], reverse=True)\n",
    "    return [(pages_id, score) for pages_id, score in sorted_pages]\n",
    "\n",
    "data = load_data('massive_data.json')\n",
    "user_id = 1\n",
    "page_recommendation = find_pages_you_might_like(user_id, data)\n",
    "print(page_recommendation)"
   ]
  },
  {
   "cell_type": "code",
   "execution_count": null,
   "id": "ac4707b6-c63c-457e-9a1b-1e13e2a854e3",
   "metadata": {},
   "outputs": [],
   "source": []
  }
 ],
 "metadata": {
  "kernelspec": {
   "display_name": "Python [conda env:base] *",
   "language": "python",
   "name": "conda-base-py"
  },
  "language_info": {
   "codemirror_mode": {
    "name": "ipython",
    "version": 3
   },
   "file_extension": ".py",
   "mimetype": "text/x-python",
   "name": "python",
   "nbconvert_exporter": "python",
   "pygments_lexer": "ipython3",
   "version": "3.12.7"
  }
 },
 "nbformat": 4,
 "nbformat_minor": 5
}
